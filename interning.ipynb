{
 "cells": [
  {
   "cell_type": "code",
   "execution_count": 9,
   "metadata": {},
   "outputs": [
    {
     "data": {
      "application/javascript": "// Define a global color variable\nconst mainColor = '#AFEEEE'; //LightSkyBlue';\n\n// Apply the color globally using CSS\ndocument.documentElement.style.setProperty('--main-color', mainColor);\n\n// Set output text color\ndocument.styleSheets[0].insertRule('body { color: var(--main-color) !important; }', 0);\n",
      "text/plain": [
       "<IPython.core.display.Javascript object>"
      ]
     },
     "metadata": {},
     "output_type": "display_data"
    }
   ],
   "source": [
    "%%javascript\n",
    "// Define a global color variable\n",
    "const mainColor = '#AFEEEE'; //LightSkyBlue';\n",
    "\n",
    "// Apply the color globally using CSS\n",
    "document.documentElement.style.setProperty('--main-color', mainColor);\n",
    "\n",
    "// Set output text color\n",
    "document.styleSheets[0].insertRule('body { color: var(--main-color) !important; }', 0);\n"
   ]
  },
  {
   "attachments": {},
   "cell_type": "markdown",
   "metadata": {},
   "source": [
    "<div style=\"font-family: 'Gen Jyuu Gothic Monospace Medium', 'Noto Sans TC', 'Inconsolata'; font-size: 150%; text-align: center; color: Plum;\">\n",
    "<br>\n",
    "\n",
    "# <font color='Plum'><b>String Interning 字串留駐</b></font>\n",
    "<br>\n",
    "</div>\n",
    "<div style=\"font-family: Inconsolata, 'Noto Sans TC'; font-size: 135%;\">\n",
    "\n",
    "* 本文附帶說明字串為何是immutable(不可變)。\n",
    "* 原因先賣個關子，稍後各位自然了解...\n",
    "</div>"
   ]
  },
  {
   "cell_type": "code",
   "execution_count": 7,
   "metadata": {},
   "outputs": [
    {
     "name": "stdout",
     "output_type": "stream",
     "text": [
      "InteractiveShell set.\n",
      "3.13.0 (main, Dec 12 2024, 07:34:55) [GCC 11.4.0]\n"
     ]
    }
   ],
   "source": [
    "import sys\n",
    "from IPython.core.interactiveshell import InteractiveShell\n",
    "\n",
    "InteractiveShell.ast_node_interactivity = \"all\"\n",
    "print(\"InteractiveShell set.\")\n",
    "print(sys.version)"
   ]
  },
  {
   "attachments": {},
   "cell_type": "markdown",
   "metadata": {},
   "source": [
    "<div style=\"font-family: 'Inconsolata', 'Noto Sans TC'; font-size: 135%;\">\n",
    "\n",
    "## <font color='SteelBlue'><b>物件比較</b></font>\n",
    "\n",
    "* 對物件(變數)的比較，Python有兩個operators(運算子)：\n",
    "    * 比較內容是否相等 ⮕ <span style=\"font-size: 150%; font-weight: 800; color: Gold;\">==</span> (Comparison Operator)。\n",
    "    * 比較是否同一物件 ⮕ <span style=\"font-size: 150%; font-weight: 800; color: Gold;\">is</span> (Identity Operator)。"
   ]
  },
  {
   "cell_type": "code",
   "execution_count": 4,
   "metadata": {},
   "outputs": [
    {
     "name": "stdout",
     "output_type": "stream",
     "text": [
      "compare_objs() defined.\n"
     ]
    }
   ],
   "source": [
    "def compare_objs(*obj) -> None:\n",
    "    comparison_operator = f'({obj[2]} == {obj[3]}) = {obj[0] == obj[1]}'\n",
    "    identity_operator = f'({obj[2]} is {obj[3]}) = {obj[0] is obj[1]}'\n",
    "    print(f'{comparison_operator:30}{identity_operator}')\n",
    "\n",
    "print('compare_objs() defined.')"
   ]
  },
  {
   "cell_type": "code",
   "execution_count": null,
   "metadata": {},
   "outputs": [],
   "source": [
    "str1 = 'Alex';            str2 = 'Alex'\n",
    "int1 = 23;                int2 = 23\n",
    "float1 = 0.0;             float2 = 0.0\n",
    "bool1 = True;             bool2 = True\n",
    "none1 = None;             none2 = None\n",
    "list1 = [23];             list2 = [23]\n",
    "tuple1 = (23,);           tuple2 = (23,)\n",
    "set1 = {33, 23};          set2 = {33, 23}\n",
    "dict1 = {'id': 23};       dict2 = {'id': 23}\n",
    "\n",
    "objs = ((str1, str2, 'str1', 'str2'),\n",
    "        (int1, int2, 'int1', 'int2'), (float1, float2, 'float1', 'float2'),\n",
    "        (bool1, bool2, 'bool1', 'bool2'), (none1, none2, 'none1', 'none2'),\n",
    "        (list1, list2, 'list1', 'list2'), (tuple1, tuple2, 'tuple1', 'tuple2'),\n",
    "        (set1, set2, 'set1', 'set2'), (dict1, dict2, 'dict1', 'dict2'))\n",
    "\n",
    "for obj in objs:\n",
    "    compare_objs(*obj)"
   ]
  },
  {
   "attachments": {},
   "cell_type": "markdown",
   "metadata": {},
   "source": [
    "<div style=\"font-family: 'Inconsolata', 'Noto Sans TC'; font-size: 135%;\">\n",
    "\n",
    "## <font color='SteelBlue'><b>本文聚焦於字串</b></font>\n",
    "\n",
    "* 以 <span style=\"font-size: 150%; font-weight: 800; color: Gold;\">is</span> 判斷str1和str2，結果如為 <span style=\"font-size: 150%; font-weight: 800; color: Gold;\">True</span>，表示兩者為同一物件。\n",
    "\n",
    "<div style=\"text-align:center\"><img src=\"https://i.imgur.com/4ng2PiW.png\" width=\"850\"/></div>\n",
    "\n",
    "* 以下用id()證明兩個字串變數，其值相同，就是同一物件。"
   ]
  },
  {
   "cell_type": "code",
   "execution_count": null,
   "metadata": {},
   "outputs": [],
   "source": [
    "name1 = 'Alex'   # name1和name2的值相同。\n",
    "name2 = 'Alex'\n",
    "print(f'{name1 = }\\t\\t{name2 = }')    # 兩者id()相同。\n",
    "print(f'{id(name1) = }\\n{id(name2) = }')\n",
    "print(f'{name1 is name2 = }')   # 所以兩者指向同一reference。"
   ]
  },
  {
   "attachments": {},
   "cell_type": "markdown",
   "metadata": {},
   "source": [
    "<div style=\"font-family: 'Inconsolata', 'Noto Sans TC'; font-size: 135%;\">\n",
    "\n",
    "## <font color='SteelBlue'><b>What is String Interning?</b></font>\n",
    "\n",
    "* 一些現代程式語言如Java, C#, Python, PHP, Ruby, Julia, ...等，如果多個字串變數(variables)內容相同，內部只會留下一份copy，這些不同名稱的變數全指向該copy的reference(記憶體位址)。意思是多個變數共用同一份字串，而非各有一份。\n",
    "* 這個「<font color='tomato'>內容相同的字串只留一份</font>」機制，稱為<span style=\"color: Gold; font-size: 110%; font-weight: 800;\">string interning</span>。intern這裡不是「實習」，而是「扣留、拘禁」的意思。本文譯作「<font color='tomato'><b>留駐</b></font>」，不過以下一律使用英文。\n",
    "* 以下是2023-01-29筆者詢問ChatGPT的答案：\n",
    "    > In Python, \"string interning\" refers to the process of creating a single, unique copy of a string and reusing it throughout the program. This is done to improve performance by reducing the amount of memory used and the number of object comparisons needed.\n",
    "* <span style=\"color: Gold; font-size: 110%; font-weight: 800;\">string interning</span>也可稱作`string caching`。ChatGPT的說明：\n",
    "    > \"String caching\" is not a term that is commonly used in Python, but it can be considered similar to \"integer caching\" in that it refers to the process of reusing the same string objects in memory.<br><br>\n",
    "    So, \"string interning\" and \"string caching\" are similar concept. Both refer to the process of reusing the same string objects in memory, however, \"string interning\" is more common term that is used in python.\n",
    "* 所以下文還是用<span style=\"color: Gold; font-size: 110%; font-weight: 800;\">string interning</span>。\n",
    "\n",
    "\n",
    "\n",
    "\n"
   ]
  },
  {
   "attachments": {},
   "cell_type": "markdown",
   "metadata": {},
   "source": [
    "<div style=\"font-family: 'Inconsolata', 'Noto Sans TC'; font-size: 135%;\">\n",
    "\n",
    "## <font color='SteelBlue'><b>Why String Interning?</b></font>\n",
    "\n",
    "* <span style=\"color: Gold; font-size: 110%; font-weight: 800;\">string interning</span>的目的，是節省記憶體儲存空間，在比對時更有效率：\n",
    "    * <font color='LightGreen'>節省空間</font>不言而喻，一份copy當然比多份copies少占用記憶體。\n",
    "    * <font color='LightGreen'>更有效率</font>也不難理解，只核對一個reference，肯定快於逐個字元取出一一比較。\n",
    "* Let’s assume that you have an application where a lot of string operations are happening. <span style=\"color: #FFC2C7;\">If we were to use equality operator == for comparing long strings Python tries to compare it character by character</span>  and obviously it will take some time. But <span style=\"color: #FFE39F;\">if these long strings can be interned then we know that they point to the same memory location.</span> In such a case we can use is keyword for comparing memory locations as it works much faster.\n",
    "</div> "
   ]
  },
  {
   "attachments": {},
   "cell_type": "markdown",
   "metadata": {},
   "source": [
    "<div style=\"font-family: 'Inconsolata', 'Noto Sans TC'; font-size: 135%;\">\n",
    "  \n",
    "### <font color='DarkSalmon'><b>先打個岔：String Interning帶來的「副作用」</b></font>\n",
    "\n",
    "* 正因為有interning機制，string就必須是<span style=\"font-size: 120%; font-weight: 800; color: Plum;\">immutable</span>，即同一reference的字串，內容一旦設定即不可改變。\n",
    "* 請想像：假如程式語言具有<span style=\"color: Gold; font-size: 110%; font-weight: 800;\">string interning</span>機制，但字串卻設計成mutable(內容可變)，則修改某一變數內容，其他interning字串都會隨之更改。這種「連動效果」通常不是我們想要的。我們多半希望每個變數「相互獨立」而非「相互影響」。牽一髮不能動全身啊(註1)。\n",
    "\n",
    "    ```python=\n",
    "    'ABC'[1] = 'b'   # 字串是immutable，所以不能更改其中的字元。\n",
    "    \n",
    "    name = 'Alex'\n",
    "    name = 'Mirror'  # 這時name指向另一個reference，所以沒有問題。\n",
    "    ```\n",
    "---\n",
    "* 註1：Interning和mutability兩者的「因果關係」是否確定如此，筆者才疏學淺，無法參透，上述僅為個人臆測。"
   ]
  },
  {
   "cell_type": "code",
   "execution_count": null,
   "metadata": {},
   "outputs": [],
   "source": [
    "his_name = 'Liam'\n",
    "her_name = 'Liam'  # 打錯了，應為'Lian'。\n",
    "\n",
    "print(f'{his_name = }\\t\\t{her_name = }')\n",
    "print(f'{id(his_name) = }\\n{id(her_name) = }')\n",
    "print(f'{(his_name is her_name) = }')\n",
    "\n",
    "# her_name[-1] = 'n'    # 假如允許這樣修改her_name...\n",
    "# print(f'{his_name = }\\t\\t{her_name = }')   # 那麼his_name也會跟著更改。"
   ]
  },
  {
   "attachments": {},
   "cell_type": "markdown",
   "metadata": {},
   "source": [
    "<div style=\"font-family: 'Inconsolata', 'Noto Sans TC'; font-size: 135%;\">\n",
    "\n",
    "## <font color='SteelBlue'><b>回歸正題</b></font>\n",
    "\n",
    "* 「夫尺有所短，寸有所長，物有所不足，智有所不明，數有所不逮，神有所不通。」--屈原《楚辭．卜居》\n",
    "* 「金無足赤，人無完人。」--宋．戴復古《寄興》\n",
    "* 天下沒有白吃的午餐。--高希均名言\n",
    "* 也沒有完美無缺的機制。Nothing is perfect!--Alex\n",
    "<div style=\"text-align:left\"><img src=\"https://i.imgur.com/R16nHnT.jpg\" width=\"600\"/></div>\n",
    "\n",
    "---\n",
    "* <span style=\"color: Gold; font-size: 110%; font-weight: 800;\">string interning</span>固然可提高效能和節約空間，不過要去intern字串，以及維護interned字串的pool，也需要時間。\n",
    "* 如果某個字串很長很長，又不會或絕少和其他字串比對，也許就不值得花額外時間去intern這個字串了。\n",
    "* 所以，為了在<font color='LightGreen'>帶來的紅利</font>和<font color='LightGreen'>付出的代價</font>之間取得平衡，Python並不會對所有字串intern，而是訂出些「遊戲規則」，用來判斷某某字串要不要intern。\n",
    "* 麻煩來了：這些遊戲規則，本身就繁瑣，而且不同的Python實作(註1)規則可能有別，即使是同一實作(如最普及的CPython)，也會因不同版本(註2)而有差異。這<span style=\"color: Gold; font-size: 110%; font-weight: 800;\">string interning</span>機制真是「天威難測」呀。\n",
    "---\n",
    "* 註1：如CPython, IronPython, Jython, PyPy, MicroPython, ...\n",
    "* 註2：例如CPython 3.7版以前使用[peephole optimization](https://github.com/python/cpython/blob/0f21fe6155227d11dc02bd3ef3b061de4ecea445/Python/peephole.c)方法決定是否intern字串，3.8版之後則改為[AST optimizer](https://github.com/python/cpython/blob/3.7/Python/ast_opt.c)。"
   ]
  },
  {
   "attachments": {},
   "cell_type": "markdown",
   "metadata": {},
   "source": [
    "<div style=\"font-family: 'Inconsolata', 'Noto Sans TC'; font-size: 135%;\">\n",
    "\n",
    "## <font color='SteelBlue'><b>String Interning規則例子</b></font>\n",
    "\n",
    "* 以下規則肯定不周延，筆者也無意周延。\n",
    "* 測試版本：CPython 3.10和3.11。\n"
   ]
  },
  {
   "attachments": {},
   "cell_type": "markdown",
   "metadata": {},
   "source": [
    "<div style=\"font-family: 'Inconsolata', 'Noto Sans TC'; font-size: 135%;\">\n",
    "\n",
    "### <font color='DarkSalmon'><b>規則-1</b></font>\n",
    "\n",
    "* 字串中含有非英文字母、數字或`'_'`(底線)者不intern。\n",
    "* 例子："
   ]
  },
  {
   "cell_type": "code",
   "execution_count": null,
   "metadata": {},
   "outputs": [],
   "source": [
    "# 字串含非英文字母、數字或`'_'`(底線)者不intern。\n",
    "print()\n",
    "name1 = 'Alex Van'     # 字串中有空白時不intern。\n",
    "name2 = 'Alex Van'\n",
    "print(f'{name1 = }\\t\\t\\t{name2 = }')\n",
    "print(f'{id(name1) = :<28}{id(name2) = }')\n",
    "print(f'{(name1 is name2) = }\\n')   # False\n",
    "\n",
    "github1 = 'https://github.com/alexhtwen'   # 有':', '/', '.'等符號的字串不intern。\n",
    "github2 = 'https://github.com/alexhtwen'\n",
    "print(f'{github1 = :30}{github2 = :<0}')\n",
    "print(f'{id(github1) = }\\t\\t{id(github2) = }')\n",
    "print(f'{(github1 is github2) = }\\n')   # False\n",
    "\n",
    "greek1 = 'δθΩ'     # 這些希臘字母肯定不會intern。\n",
    "greek2 = 'δθΩ'\n",
    "print(f'{greek1 = }\\t\\t\\t\\t{greek2 = }')\n",
    "print(f'{id(greek1) = }\\t\\t{id(greek2) = }')\n",
    "print(f'{greek1 is greek2 = }\\n')   # False\n",
    "\n",
    "city1 = '澳門'    # 用肚子想都知道，中文鐵定不會自動intern。\n",
    "city2 = '澳門'\n",
    "print(f'{city1 = }\\t\\t\\t\\t{city2 = }')\n",
    "print(f'{id(city1) = }\\t\\t{id(city2) = }')\n",
    "print(f'{city1 is city2 = }\\n')   # False\n",
    "\n",
    "id1 = 'D103_a'   # 純英文字母、數字及底線組成的字串，終於intern了。\n",
    "id2 = 'D103_a'\n",
    "print(f'{id1 = }\\t\\t\\t\\t{id2 = }')\n",
    "print(f'{id(id1) = :<20}\\t\\t{id(id2) = }')\n",
    "print(f'{id1 is id2 = }\\n')   # True\n",
    "print()"
   ]
  },
  {
   "attachments": {},
   "cell_type": "markdown",
   "metadata": {},
   "source": [
    "<div style=\"text-align:center\"><img src=\"https://i.imgur.com/VmiMD9W.png\" width=\"900\"/></div>"
   ]
  },
  {
   "attachments": {},
   "cell_type": "markdown",
   "metadata": {},
   "source": [
    "<div style=\"font-family: 'Inconsolata', 'Noto Sans TC'; font-size: 135%;\">\n",
    "\n",
    "### <font color='DarkSalmon'><b>規則-2</b></font>\n",
    "\n",
    "* 長度超過4,096個字元的字串不intern。\n",
    "* CPython 3.7版本以前長度限制為20個字元。"
   ]
  },
  {
   "cell_type": "code",
   "execution_count": null,
   "metadata": {},
   "outputs": [],
   "source": [
    "str1 = 'A' * 4_096    # 連用5個4_096，何以不用變數？\n",
    "str2 = 'A' * 4_096    # Alex是否功力大退？\n",
    "str3 = 'A' * 4_096    # 當然不是。\n",
    "str4 = 'A' * 4_096    # 請耐心看下去，自然明白。\n",
    "str5 = 'A' * 4_096\n",
    "print(f'{id(str1)=:<20}{id(str2)=:<20}{id(str3)=:<20}{id(str4)=:<20}{id(str5)=}')\n",
    "print(f'{(str1 is str2 is str3 is str4 is str5) = }')"
   ]
  },
  {
   "attachments": {},
   "cell_type": "markdown",
   "metadata": {},
   "source": [
    "<div style=\"text-align:center\"><img src=\"https://i.imgur.com/NLIZX7y.png\" width=\"900\"/></div>\n",
    "\n",
    "<div style=\"text-align:center\"><img src=\"https://i.imgur.com/URaEamg.png\" width=\"900\"/></div>"
   ]
  },
  {
   "attachments": {},
   "cell_type": "markdown",
   "metadata": {},
   "source": [
    "<div style=\"font-family: 'Inconsolata', 'Noto Sans TC'; font-size: 135%;\">\n",
    "\n",
    "### <font color='DarkSalmon'><b>規則-3</b></font>\n",
    "\n",
    "* 字串由string variable或string literal(註1)構成，有不同interning規則：\n",
    "    * 下面的字串「會」觸發<span style=\"color: Gold; font-size: 110%; font-weight: 800;\">string interning</span>:\n",
    "        * 單一variable\n",
    "        * 單一literal\n",
    "        * literal + literal\n",
    "    * 下面的字串「不會」觸發<span style=\"color: Gold; font-size: 110%; font-weight: 800;\">string interning</span>(但有例外):\n",
    "        * variable + variable\n",
    "        * variable + literal\n",
    "        * literal + variable\n",
    "* 夠繁瑣了吧？\n",
    "---\n",
    "* 註1：variable是「變數」，literal為「定數」。例如在<span style=\"font-size: 150%; font-weight: 800; color: Gold;\">`name = 'Alex'`</span>中，<span style=\"font-size: 150%; font-weight: 800; color: Gold;\">`name`</span>是variable，<span style=\"font-size: 150%; font-weight: 800; color: Gold;\">`'Alex'`</span>則是literal。"
   ]
  },
  {
   "cell_type": "code",
   "execution_count": null,
   "metadata": {},
   "outputs": [],
   "source": [
    "first = 'first'\n",
    "last = 'last'\n"
   ]
  },
  {
   "cell_type": "code",
   "execution_count": null,
   "metadata": {},
   "outputs": [],
   "source": [
    "name1 = 'Chat' + 'GPT'   # literal + literal\n",
    "name2 = 'Chat' + 'GPT'\n",
    "print(f'case 1: {(name1 is name2) = }')   # True\n",
    "\n",
    "first = 'Chat'\n",
    "last = 'GPT'\n",
    "\n",
    "name1 = first + last   # variable + variable\n",
    "name2 = first + last\n",
    "print(f'case 2: {(name1 is name2) = }')   # False\n",
    "\n",
    "name1 = first + 'GPT'   # variable + literal\n",
    "name2 = first + 'GPT'\n",
    "print(f'case 3: {(name1 is name2) = }')   # False\n",
    "\n",
    "name1 = 'Chat' + last   # literal + variable\n",
    "name2 = 'Chat' + last\n",
    "print(f'case 4: {(name1 is name2) = }')   # False"
   ]
  },
  {
   "attachments": {},
   "cell_type": "markdown",
   "metadata": {},
   "source": [
    "<div style=\"font-family: 'Inconsolata', 'Noto Sans TC'; font-size: 135%;\">\n",
    "\n",
    "## <font color='SteelBlue'><b>Life is Short</b></font>\n",
    "\n",
    "* 人生苦短，為何要花寶貴精力去記憶這些瑣碎規則？\n",
    "* 況且規則還可能改來改去。\n",
    "* 時間應該用於有生產力的地方，而不是拿來強記繁複又易變動的內部規則。\n",
    "    <div style=\"text-align:left\"><img src=\"https://i.imgur.com/jPb3Fic.jpg\" width=\"500\"/></div>"
   ]
  },
  {
   "attachments": {},
   "cell_type": "markdown",
   "metadata": {},
   "source": [
    "<div style=\"font-family: 'Inconsolata', 'Noto Sans TC'; font-size: 135%;\">\n",
    "\n",
    "## <font color='SteelBlue'><b>有簡單的解決辦法嗎？</b></font>\n",
    "\n",
    "* 請放心，Python永遠都會幫我們開扇窗的。\n",
    "    <div style=\"text-align:center\"><img src=\"https://i.imgur.com/6L0CEnl.jpg\" width=\"700\"/></div>    "
   ]
  },
  {
   "attachments": {},
   "cell_type": "markdown",
   "metadata": {},
   "source": [
    "<div style=\"font-family: 'Inconsolata', 'Noto Sans TC'; font-size: 135%;\">\n",
    "\n",
    "## <font color='SteelBlue'><b>內建的intern()函數</b></font>\n",
    "\n",
    "* 上面所述的是Python自動提供的內隱式(implicit)<span style=\"color: Gold; font-size: 110%; font-weight: 800;\">string interning</span>機制。\n",
    "* 但此機制太過冗雜，建議不用記，也不要倚賴它來判斷字串是否為同一物件。\n",
    "* 如果想有interning效果，請用Python內建的intern()函數外顯設定(intern a string explicitly)。"
   ]
  },
  {
   "attachments": {},
   "cell_type": "markdown",
   "metadata": {},
   "source": [
    "<div style=\"font-family: 'Inconsolata', 'Noto Sans TC'; font-size: 135%;\">\n",
    "\n",
    "<div style=\"text-align:center\"><img src=\"https://i.imgur.com/TGyUlKO.jpg\" width=\"500\"/></div>"
   ]
  },
  {
   "attachments": {},
   "cell_type": "markdown",
   "metadata": {},
   "source": [
    "<div style=\"font-family: 'Inconsolata', 'Noto Sans TC'; font-size: 135%;\">\n",
    "\n",
    "### <font color='DarkSalmon'><b>以intern()處理原規則-1</b></font>\n",
    "* 原規則：字串中含有非英文字母、數字或`'_'`(底線)者不intern。\n",
    "* 解決方法：外顯使用sys.intern()函數即有<span style=\"color: Gold; font-size: 110%; font-weight: 800;\">string interning</span>效果。\n"
   ]
  },
  {
   "cell_type": "code",
   "execution_count": null,
   "metadata": {},
   "outputs": [],
   "source": [
    "# 字串含非英文字母、數字或`'_'`(底線)者不intern。\n",
    "import sys\n",
    "\n",
    "name1 = sys.intern('Alex Van')   # 本來有空白時不會intern。\n",
    "name2 = sys.intern('Alex Van')   # 不自動就手動唄。\n",
    "print(f'{name1 = }\\t\\t\\t{name2 = }')\n",
    "print(f'{id(name1) = }\\t\\t{id(name2) = }')\n",
    "print(f'{(name1 is name2) = }\\n')   # True\n",
    "\n",
    "github1 = sys.intern('https://github.com/alexhtwen')\n",
    "github2 = sys.intern('https://github.com/alexhtwen')\n",
    "print(f'{github1 = :<30}{github2 = :<0}')\n",
    "print(f'{id(github1) = }\\t\\t{id(github2) = }')\n",
    "print(f'{(github1 is github2) = }\\n')   # True\n",
    "\n",
    "greek1 = sys.intern('δθΩ')\n",
    "greek2 = sys.intern('δθΩ')\n",
    "print(f'{greek1 = }\\t\\t\\t\\t{greek2 = }')\n",
    "print(f'{id(greek1) = }\\t\\t{id(greek2) = }')\n",
    "print(f'{greek1 is greek2 = }\\n')   # True\n",
    "\n",
    "city1 = sys.intern('澳門')\n",
    "city2 = sys.intern('澳門')\n",
    "print(f'{city1 = }\\t\\t\\t\\t{city2 = }')\n",
    "print(f'{id(city1) = }\\t\\t{id(city2) = }')\n",
    "print(f'{city1 is city2 = }\\n')   # True\n",
    "\n",
    "id1 = 'D103_a'   # 只有純英文字母、數字及底線組成的字串不必外顯itern()。\n",
    "id2 = 'D103_a'\n",
    "print(f'{id1 = }\\t\\t\\t\\t{id2 = }')\n",
    "print(f'{id(id1) = }\\t\\t{id(id2) = }')\n",
    "print(f'{id1 is id2 = }\\n')   # True"
   ]
  },
  {
   "cell_type": "code",
   "execution_count": null,
   "metadata": {},
   "outputs": [],
   "source": [
    "import sys\n",
    "\n",
    "name1 = sys.intern(('Alex', ))\n",
    "name2 = sys.intern(('Alex', ))\n",
    "\n",
    "name1 is name2"
   ]
  },
  {
   "attachments": {},
   "cell_type": "markdown",
   "metadata": {},
   "source": [
    "<div style=\"text-align:center\"><img src=\"https://i.imgur.com/JVDSndE.png\" width=\"900\"/></div>\n"
   ]
  },
  {
   "attachments": {},
   "cell_type": "markdown",
   "metadata": {},
   "source": [
    "<div style=\"font-family: 'Inconsolata', 'Noto Sans TC'; font-size: 135%;\">\n",
    "\n",
    "### <font color='DarkSalmon'><b>以intern()處理原規則-2</b></font>\n",
    "* 原規則：長度超過4,096個字元的字串不intern。\n",
    "* 解決方法：外顯使用sys.intern()函數即有<span style=\"color: Gold; font-size: 110%; font-weight: 800;\">string interning</span>效果。"
   ]
  },
  {
   "cell_type": "code",
   "execution_count": null,
   "metadata": {},
   "outputs": [],
   "source": [
    "# 字串直接賦值\n",
    "str1 = 'A' * 4_097\n",
    "str2 = 'A' * 4_097\n",
    "print(f'{id(str1) = :<20}{id(str2) = }')\n",
    "print(f'{(str1 is str2) = }\\n')   # False\n",
    "# -----------------\n",
    "# 使用intern()函數\n",
    "from sys import intern\n",
    "\n",
    "str1 = intern('A' * 4_097)\n",
    "str2 = intern('A' * 4_097)\n",
    "print(f'{id(str1) = :<20}{id(str2) = }')\n",
    "print(f'{(str1 is str2) = }')   # True"
   ]
  },
  {
   "attachments": {},
   "cell_type": "markdown",
   "metadata": {},
   "source": [
    "<div style=\"text-align:center\"><img src=\"https://i.imgur.com/36C4Ajn.png\" width=\"700\"/></div>\n"
   ]
  },
  {
   "attachments": {},
   "cell_type": "markdown",
   "metadata": {},
   "source": [
    "<div style=\"font-family: 'Inconsolata', 'Noto Sans TC'; font-size: 135%;\">\n",
    "\n",
    "### <font color='DarkSalmon'><b>以intern()處理原規則-3</b></font>\n",
    "* 原規則：字串由variable組合而成者不intern。\n",
    "* 解決方法：外顯使用sys.intern()函數即有<span style=\"color: Gold; font-size: 110%; font-weight: 800;\">string interning</span>效果。"
   ]
  },
  {
   "cell_type": "code",
   "execution_count": null,
   "metadata": {},
   "outputs": [],
   "source": [
    "# 字串直接賦值\n",
    "first = 'first'\n",
    "last = 'last'\n",
    "name1 = first + 'last'\n",
    "name2 = 'first' + 'last'\n",
    "print(f'{name1 = }\\t\\t{name2 = }')\n",
    "print(f'{id(name1) = :<20}{id(name2) = }')\n",
    "print(f'{(name1 is name2) = }\\n')\n",
    "# -----------------\n",
    "# 使用intern()函數\n",
    "from sys import intern\n",
    "\n",
    "first = 'first'\n",
    "last = 'last'\n",
    "name1 = intern(first + 'last')\n",
    "name2 = intern('first' + 'last')\n",
    "print(f'{name1 = }\\t\\t{name2 = }')\n",
    "print(f'{id(name1) = :<20}{id(name2) = }')\n",
    "print(f'{(name1 is name2) = }')"
   ]
  },
  {
   "attachments": {},
   "cell_type": "markdown",
   "metadata": {},
   "source": [
    "<div style=\"font-family: 'Inconsolata', 'Noto Sans TC'; font-size: 135%;\">\n",
    "\n",
    "## <font color='SteelBlue'><b>效能測試</b></font>\n",
    "* 以下是有無interning的效能比較測試。"
   ]
  },
  {
   "cell_type": "code",
   "execution_count": null,
   "metadata": {},
   "outputs": [],
   "source": [
    "from sys import intern\n",
    "import random as rd\n",
    "import time\n",
    "from string import ascii_letters\n",
    "\n",
    "str_lens = (100, 10_000, 5_000_000)\n",
    "loops = (100, 10_000, 1_000_000)\n",
    "\n",
    "for str_len in str_lens:\n",
    "    rand_str = ''.join(rd.choices(ascii_letters + '人生苦短', k=str_len))\n",
    "    str1 = ' Α ' + rand_str + ' Ω '\n",
    "    str2 = ' Α ' + rand_str + ' Ω '\n",
    "    str3 = intern(rand_str + ' The End. ')\n",
    "    str4 = intern(rand_str + ' The End. ')\n",
    "\n",
    "    for loop in loops:\n",
    "        time1 = time.time()\n",
    "        for _ in range(loop):\n",
    "            is_equal_sans_interning = (str1 == str2)\n",
    "        time2 = time.time()\n",
    "        duration_sans_interning = time2 - time1\n",
    "        print(f'{str_len = :<12}{loop = :<12}')\n",
    "        print(f'{duration_sans_interning = }')\n",
    "\n",
    "        # ================================\n",
    "        time3 = time.time()\n",
    "        for _ in range(loop):\n",
    "            is_equal_with_interning = (str3 == str4)\n",
    "        time4 = time.time()\n",
    "        duration_with_interning = time4 - time3\n",
    "        print(f'{duration_with_interning = }')\n",
    "        # print()\n",
    "        print(f'{(duration_with_interning < duration_sans_interning) = }')\n",
    "        print(f'{(duration_with_interning / duration_sans_interning) = :.10f}')\n",
    "        print('------')\n",
    "    print('===========================')"
   ]
  },
  {
   "attachments": {},
   "cell_type": "markdown",
   "metadata": {},
   "source": [
    "<div style=\"font-family: 'Inconsolata', 'Noto Sans TC'; font-size: 135%;\">\n",
    "\n",
    "### <font color='DarkSalmon'><b>效能比較發現</b></font>\n",
    "\n",
    "* 比對的字串較短時，interning與否效能沒啥差別，甚至有時不intern反而比較快。字串要到很長時，interning的功用才陸續顯示出來。\n",
    "* 迭代次數越多，interning效果越顯著。"
   ]
  },
  {
   "attachments": {},
   "cell_type": "markdown",
   "metadata": {},
   "source": [
    "<div style=\"font-family: 'Inconsolata', 'Noto Sans TC'; font-size: 135%;\">\n",
    "\n",
    "## <font color='SteelBlue'><b>結論</b></font>\n",
    "\n",
    "* 比對兩物件(變數)的「<span style=\"font-size: 120%; font-weight: 500; color: Tomato;\">內容</span>」是否相等，要用<span style=\"font-size: 135%; font-weight: 700; color: Gold;\">==</span>，不要用<span style=\"font-size: 135%; font-weight: 700; color: Gold;\">is</span>。\n",
    "* 判斷是否為<span style=\"font-size: 120%; font-weight: 500; color: Tomato;\">None</span>(註1)則用<span style=\"font-size: 135%; font-weight: 700; color: Gold;\">is</span>。<span style=\"font-size: 135%; font-weight: 700; color: Gold;\">==</span>本來也可以，不過[PEP 8](https://peps.python.org/pep-0008/)規範用<span style=\"font-size: 135%; font-weight: 700; color: Gold;\">is</span>。\n",
    "* PEP 8截圖：\n",
    "    <div style=\"text-align:center\"><img src=\"https://i.imgur.com/jMJ3Ziq.png\" width=\"900\"/></div>\n",
    "---\n",
    "* 註1：因為None是singleton，整個Python程式只有一份。\n"
   ]
  },
  {
   "attachments": {},
   "cell_type": "markdown",
   "metadata": {},
   "source": [
    "<div style=\"font-family: 'Inconsolata', 'Noto Sans TC'; font-size: 135%;\">\n",
    "\n",
    "## <font color='SteelBlue'><b>String Interning到此結束...</b></font>"
   ]
  },
  {
   "attachments": {},
   "cell_type": "markdown",
   "metadata": {},
   "source": [
    "<div style=\"text-align:center\"><img src=\"https://i.imgur.com/cV6EtSL.png\" width=\"250\"/></div>"
   ]
  },
  {
   "attachments": {},
   "cell_type": "markdown",
   "metadata": {},
   "source": [
    "<div style=\"font-family: 'Inconsolata', 'Noto Sans TC'; font-size: 135%;\">\n",
    "\n",
    "## <font color='SteelBlue'><b>域外誌：Integer Interning(caching)</b></font>\n",
    "\n",
    "* Python的integer原來也具備<span style=\"color: Gold; font-size: 110%; font-weight: 800;\">interning</span>機制。\n",
    "\n",
    "> \"Integer caching\" and \"integer interning\" are similar concepts, but they are not exactly the same.<br><br>\n",
    "\"Integer caching\" refers to the process of reusing the same small integer objects in memory, so that multiple variables can refer to the same object. This is a memory optimization technique that is used to save memory space. It is implemented in Python and other programming languages.<br><br>\n",
    "\"Integer interning\" is a more general concept, which refers to the process of creating a single, unique copy of a string or integer, and then reusing it throughout the program. It is used to improve performance by reducing the amount of memory used and the number of object comparisons needed. It is also implemented in many programming languages, including Python.<br><br>\n",
    "In Python, the terms \"integer caching\" and \"integer interning\" are often used interchangeably, as both refer to the process of reusing small integers in memory. However, \"integer caching\" is more specific to Python, while \"integer interning\" is a more general concept that applies to other languages too.\n",
    "\n",
    "* 不過implicit integer interning和string interning相似，也有些瑣碎規則：\n"
   ]
  },
  {
   "attachments": {},
   "cell_type": "markdown",
   "metadata": {},
   "source": [
    "<div style=\"font-family: 'Inconsolata', 'Noto Sans TC'; font-size: 135%;\">\n",
    "\n",
    "### <font color='DarkSalmon'><b>上下限</b></font>\n",
    "    * -5 ~ 256的整數會自動intern。\n",
    "    * -6以下或257以上則不會。\n",
    "* -5 ~ 256的整數只有一份，故稱作singleton objects。"
   ]
  },
  {
   "cell_type": "code",
   "execution_count": 76,
   "metadata": {},
   "outputs": [],
   "source": [
    "def print_nums(num1: int | float, num2: int | float) -> None:\n",
    "    print(f'{num1 = :<24}{num2 = }')\n",
    "    print(f'{id(num1) = :<20}{id(num2) = }')\n",
    "    print(f'{(num1 is num2) = }\\n')"
   ]
  },
  {
   "cell_type": "code",
   "execution_count": null,
   "metadata": {},
   "outputs": [],
   "source": [
    "# implicit的整數interning範圍為-5 ~ 256。\n",
    "print()\n",
    "num1 = 5\n",
    "num2 = 5\n",
    "print_nums(num1, num2)\n",
    "\n",
    "num1 = 100\n",
    "num2 = 100\n",
    "print_nums(num1, num2)\n",
    "\n",
    "num1 = 256\n",
    "num2 = 256\n",
    "print_nums(num1, num2)\n",
    "\n",
    "num1 = -6\n",
    "num2 = -6\n",
    "print_nums(num1, num2)\n",
    "\n",
    "num1 = 257\n",
    "num2 = 257\n",
    "print_nums(num1, num2)"
   ]
  },
  {
   "cell_type": "code",
   "execution_count": null,
   "metadata": {},
   "outputs": [],
   "source": [
    "# implicit的整數interning範圍為-5 ~ 256。\n",
    "print()\n",
    "num1 = 5\n",
    "num2 = 5\n",
    "print(f'{num1 is num2 = }')   # True\n",
    "\n",
    "num1 = 100\n",
    "num2 = 100\n",
    "print(f'{num1 is num2 = }')   # True\n",
    "\n",
    "num1 = 256\n",
    "num2 = 256\n",
    "print(f'{num1 is num2 = }')   # True\n",
    "\n",
    "num1 = -6\n",
    "num2 = -6\n",
    "print(f'{num1 is num2 = }')   # False\n",
    "\n",
    "num1 = 257\n",
    "num2 = 257\n",
    "print(f'{num1 is num2 = }')   # False"
   ]
  },
  {
   "cell_type": "code",
   "execution_count": null,
   "metadata": {},
   "outputs": [],
   "source": [
    "numbers = [-5, 100, 256, -6, 257]\n",
    "print()\n",
    "for number in numbers:\n",
    "    num1 = number\n",
    "    num2 = number\n",
    "    print_nums(num1, num2)"
   ]
  },
  {
   "cell_type": "code",
   "execution_count": null,
   "metadata": {},
   "outputs": [],
   "source": [
    "numbers = [-5, 100, 256, -6, 999**999]\n",
    "for number in numbers:\n",
    "    num1 = number\n",
    "    num2 = number\n",
    "    print(f'{number = }\\n{num1 is num2 = }')"
   ]
  },
  {
   "cell_type": "code",
   "execution_count": null,
   "metadata": {},
   "outputs": [],
   "source": [
    "num1 = 256\n",
    "num2 = 256\n",
    "print(f'case 1: {num1 is num2 = }')   # True\n",
    "\n",
    "num1 = 256 + 0\n",
    "num2 = 256 + 0\n",
    "print(f'case 2: {num1 is num2 = }')   # True\n",
    "\n",
    "num1 = 257\n",
    "num2 = 257\n",
    "print(f'case 3: {num1 is num2 = }')   # False\n",
    "\n",
    "num1 = 257 + 0\n",
    "num2 = 257 + 0\n",
    "print(f'case 4: {num1 is num2 = }')   # False\n",
    "\n",
    "number = 256\n",
    "num1 = number\n",
    "num2 = number\n",
    "print(f'case 5: {num1 is num2 = }')   # True\n",
    "\n",
    "num1 = number + 0\n",
    "num2 = number + 0\n",
    "print(f'case 6: {num1 is num2 = }')   # True\n",
    "\n",
    "number = 257\n",
    "num1 = number\n",
    "num2 = number\n",
    "print(f'case 7: {num1 is num2 = }')   # True ??\n",
    "\n",
    "num1 = number + 0\n",
    "num2 = number + 0\n",
    "print(f'case 8: {num1 is num2 = }')   # False ??\n",
    "\n",
    "str1 = 'a' + '1'\n",
    "str2 = 'a' + '1'\n",
    "print(f'case 9: {str1 is str2 = }')   # True"
   ]
  },
  {
   "cell_type": "code",
   "execution_count": null,
   "metadata": {},
   "outputs": [],
   "source": [
    "import copy\n",
    "x = ({1: 'a', 2: 'b', 3: 'c'},)\n",
    "y = copy.copy(x)\n",
    "x[0][1] = 'd'\n",
    "print(f'{x = }')\n",
    "print(f'{y = }')\n",
    "2023-1946"
   ]
  },
  {
   "cell_type": "code",
   "execution_count": null,
   "metadata": {},
   "outputs": [],
   "source": [
    "\n",
    "\n",
    "a = [1, 2, 5, 9]\n",
    "b = copy.copy(a)\n",
    "b[2] = 999\n",
    "a\n",
    "b\n"
   ]
  },
  {
   "cell_type": "code",
   "execution_count": null,
   "metadata": {},
   "outputs": [],
   "source": [
    "\n",
    "num1 = number\n",
    "num2 = number\n",
    "print(f'{num1 is num2 = }')\n",
    "\n",
    "num1 = number + 0\n",
    "num2 = number + 0\n",
    "print(f'{num1 is num2 = }')\n",
    "\n",
    "# name1 = 'Alex'\n",
    "# name2 = 'ander'\n",
    "# str1 = 'name1' + 'name2'\n",
    "# str2 = 'name1' + 'name2'\n",
    "# print(f'{str1 is str2 = }')"
   ]
  },
  {
   "cell_type": "code",
   "execution_count": null,
   "metadata": {},
   "outputs": [],
   "source": [
    "print()\n",
    "num1 = 3.1416\n",
    "num2 = 3.1416\n",
    "print_nums(num1, num2)\n",
    "\n",
    "num1 = 0.0\n",
    "num2 = 0.0\n",
    "print_nums(num1, num2)\n",
    "\n",
    "num1 = -1.5\n",
    "num2 = -1.5\n",
    "print_nums(num1, num2)"
   ]
  },
  {
   "attachments": {},
   "cell_type": "markdown",
   "metadata": {},
   "source": [
    "<div style=\"font-family: 'Inconsolata', 'Noto Sans TC'; font-size: 135%;\">\n",
    "\n"
   ]
  },
  {
   "attachments": {},
   "cell_type": "markdown",
   "metadata": {},
   "source": [
    "<div style=\"font-family: 'Inconsolata', 'Noto Sans TC'; font-size: 135%;\">\n",
    "\n",
    "## <font color='SteelBlue'><b>外顯Intern整數</b></font>\n",
    "\n",
    "* 目前筆者不知道如何外顯intern整數。\n",
    "* 所以暫時無解。"
   ]
  },
  {
   "cell_type": "code",
   "execution_count": null,
   "metadata": {},
   "outputs": [],
   "source": [
    "from sys import intern\n",
    "\n",
    "num1 = intern(256)    # implicit的整數interning上限為256。\n",
    "num2 = intern(256)\n",
    "\n",
    "# num1 = 257\n",
    "# num2 = 257\n",
    "print(f'{num1 = }\\t\\t{num2 = }')\n",
    "print(f'{id(num1) = :<20}{id(num2) = }')\n",
    "print(f'{(num1 is num2) = }')\n",
    "\n",
    "print(123)"
   ]
  },
  {
   "attachments": {},
   "cell_type": "markdown",
   "metadata": {},
   "source": [
    "<div style=\"font-family: 'Gen Jyuu Gothic Monospace Medium', 'Noto Sans TC'; font-size: 200%;  text-align: center; color: Plum;\">\n",
    "\n",
    "<br><br>\n",
    "# The End"
   ]
  }
 ],
 "metadata": {
  "kernelspec": {
   "display_name": "Python 3",
   "language": "python",
   "name": "python3"
  },
  "language_info": {
   "codemirror_mode": {
    "name": "ipython",
    "version": 3
   },
   "file_extension": ".py",
   "mimetype": "text/x-python",
   "name": "python",
   "nbconvert_exporter": "python",
   "pygments_lexer": "ipython3",
   "version": "3.13.0"
  },
  "orig_nbformat": 4,
  "vscode": {
   "interpreter": {
    "hash": "ead1b95f633dc9c51826328e1846203f51a198c6fb5f2884a80417ba131d4e82"
   }
  }
 },
 "nbformat": 4,
 "nbformat_minor": 2
}
